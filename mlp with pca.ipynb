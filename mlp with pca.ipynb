{
 "cells": [
  {
   "cell_type": "code",
   "execution_count": 3,
   "metadata": {},
   "outputs": [
    {
     "name": "stdout",
     "output_type": "stream",
     "text": [
      "misclassification\n",
      "0.3537416214212712\n"
     ]
    }
   ],
   "source": [
    "from sklearn.preprocessing import label_binarize\n",
    "from sklearn.multiclass import OneVsRestClassifier\n",
    "from scipy import interp\n",
    "import matplotlib.pyplot as plt\n",
    "from itertools import cycle\n",
    "from sklearn.metrics import roc_curve, auc\n",
    "from sklearn.neural_network import MLPClassifier\n",
    "import numpy as np  \n",
    "import pandas as pd\n",
    "\n",
    "df11 = pd.read_csv('subject101.csv',delimiter=',')\n",
    "df12 = pd.read_csv('subject102.csv',delimiter=',')\n",
    "df13 = pd.read_csv('subject103.csv',delimiter=',')\n",
    "df14 = pd.read_csv('subject104.csv',delimiter=',')\n",
    "df15 = pd.read_csv('subject105.csv',delimiter=',')\n",
    "df16 = pd.read_csv('subject106.csv',delimiter=',')\n",
    "df17 = pd.read_csv('subject107.csv',delimiter=',')\n",
    "df18 = pd.read_csv('subject108.csv',delimiter=',')\n",
    "df19 = pd.read_csv('subject109.csv',delimiter=',')\n",
    "df21 = pd.read_csv('subject201.csv',delimiter=',')\n",
    "df25 = pd.read_csv('subject205.csv',delimiter=',')\n",
    "df26 = pd.read_csv('subject206.csv',delimiter=',')\n",
    "df28 = pd.read_csv('subject208.csv',delimiter=',')\n",
    "df29 = pd.read_csv('subject209.csv',delimiter=',')\n",
    "df = pd.concat([df11,df12,df13,df14,df15,df16,df17,df18,df19,df21,df25,df26,df28,df29])\n",
    "from sklearn.model_selection import train_test_split\n",
    "X = df.iloc[:,2:]\n",
    "y = df.iloc[:,1]\n",
    "X = np.array(X)\n",
    "y = np.array(y)\n",
    "from sklearn.decomposition import PCA\n",
    "pca = PCA(n_components=10)\n",
    "X = pca.fit_transform(X)\n",
    "y = label_binarize(y, classes=[1, 2, 3, 4, 5, 6, 7, 9, 10, 11, 12, 13, 16, 17, 18, 19, 20, 24])\n",
    "n_classes = y.shape[1]\n",
    "X_train, X_test, y_train, y_test = train_test_split(X, y,train_size=0.8,test_size=0.2, shuffle = True,stratify=y)\n",
    "def norm(df):\n",
    "    df_norm = (df - df.mean()) / (df.max() - df.min())\n",
    "    return df_norm\n",
    "X_train = norm(X_train)\n",
    "X_test = norm(X_test)\n",
    "clf = MLPClassifier(solver='lbfgs', alpha=1e-5, hidden_layer_sizes=(100,), random_state=1)\n",
    "classifier = OneVsRestClassifier(clf)\n",
    "y_score = classifier.fit(X_train, y_train).predict_proba(X_test)\n",
    "print(\"misclassification\")\n",
    "print(1-classifier.score(X_test,y_test))\n"
   ]
  },
  {
   "cell_type": "code",
   "execution_count": null,
   "metadata": {},
   "outputs": [],
   "source": []
  }
 ],
 "metadata": {
  "kernelspec": {
   "display_name": "Python 2",
   "language": "python",
   "name": "python2"
  },
  "language_info": {
   "codemirror_mode": {
    "name": "ipython",
    "version": 2
   },
   "file_extension": ".py",
   "mimetype": "text/x-python",
   "name": "python",
   "nbconvert_exporter": "python",
   "pygments_lexer": "ipython2",
   "version": "2.7.14"
  }
 },
 "nbformat": 4,
 "nbformat_minor": 2
}
