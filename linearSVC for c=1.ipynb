{
 "cells": [
  {
   "cell_type": "code",
   "execution_count": 1,
   "metadata": {},
   "outputs": [
    {
     "name": "stdout",
     "output_type": "stream",
     "text": [
      "LinearSVC(C=1.0, class_weight=None, dual=False, fit_intercept=True,\n",
      "     intercept_scaling=1, loss='squared_hinge', max_iter=1000,\n",
      "     multi_class='ovr', penalty='l1', random_state=None, tol=0.0001,\n",
      "     verbose=0)\n",
      "0.7112722962397544\n"
     ]
    }
   ],
   "source": [
    "import numpy as np  \n",
    "import pandas as pd\n",
    "from sklearn import svm\n",
    "from sklearn.model_selection import GridSearchCV\n",
    "df11 = pd.read_csv('subject101.csv',delimiter=',')\n",
    "df12 = pd.read_csv('subject102.csv',delimiter=',')\n",
    "df13 = pd.read_csv('subject103.csv',delimiter=',')\n",
    "df14 = pd.read_csv('subject104.csv',delimiter=',')\n",
    "df15 = pd.read_csv('subject105.csv',delimiter=',')\n",
    "df16 = pd.read_csv('subject106.csv',delimiter=',')\n",
    "df17 = pd.read_csv('subject107.csv',delimiter=',')\n",
    "df18 = pd.read_csv('subject108.csv',delimiter=',')\n",
    "df19 = pd.read_csv('subject109.csv',delimiter=',')\n",
    "df21 = pd.read_csv('subject201.csv',delimiter=',')\n",
    "df25 = pd.read_csv('subject205.csv',delimiter=',')\n",
    "df26 = pd.read_csv('subject206.csv',delimiter=',')\n",
    "df28 = pd.read_csv('subject208.csv',delimiter=',')\n",
    "df29 = pd.read_csv('subject209.csv',delimiter=',')\n",
    "df = pd.concat([df11,df12,df13,df14,df15,df16,df17,df18,df19,df21,df25,df26,df28,df29])\n",
    "from sklearn.model_selection import train_test_split\n",
    "X = df.iloc[:,2:]\n",
    "y = df.iloc[:,1]\n",
    "X = np.array(X)\n",
    "y = np.array(y)\n",
    "X_train, X_test, y_train, y_test = train_test_split(X, y,train_size=0.8,test_size=0.2, shuffle = True,stratify=y)\n",
    "def norm(df):\n",
    "    df_norm = (df - df.mean()) / (df.max() - df.min())\n",
    "    return df_norm\n",
    "X_train = norm(X_train)\n",
    "X_test = norm(X_test)\n",
    "clf = svm.LinearSVC(penalty='l1',dual=False)\n",
    "\n",
    "\n",
    "clf.fit(X_train,y_train)\n",
    "print clf\n",
    "print clf.score(X_test,y_test)"
   ]
  },
  {
   "cell_type": "code",
   "execution_count": 4,
   "metadata": {},
   "outputs": [
    {
     "name": "stdout",
     "output_type": "stream",
     "text": [
      "[[36513   121   638   222     0     9     0     5   507     1    17     0\n",
      "    159   196    23    47     0    47]\n",
      " [ 1604 25743  1450   128   121    19    42     7  2460     0     0   437\n",
      "    596  4228    20   183     0     0]\n",
      " [    9  1250 28042  1408    73     0   517    37   283     0    17    34\n",
      "    370  4740    35  1126     0    45]\n",
      " [   46    79  1000 40813    22   362  2072    18     9    11   439    89\n",
      "   1189  1404    32   167     0     0]\n",
      " [   27   312   122  1334 12784   860  1013     6   254    10   615   739\n",
      "    134   162    13   236   297   722]\n",
      " [    0     0     0   461   146 30388   370     0    15     0   309   273\n",
      "    373   341    18    89   137     0]\n",
      " [    7   285   171 10905   869  1993 18395     5   218    12  1689   794\n",
      "    280   724    88  1132    14    40]\n",
      " [    0     0     0    18     0     0    36 16451     0     0     0     3\n",
      "    107     5     0   109     0     0]\n",
      " [  173    31   743     1     0     4     2     0 60769     0     0     1\n",
      "    104    51     0    51     0    57]\n",
      " [    9     0     1     0     0     0     0     0     0 10671     0     2\n",
      "      0   153    37    31     0     0]\n",
      " [  120   217  1410  4742  1119   554  1021    42     8    21  9262  1222\n",
      "   2450   494     7   670     1    83]\n",
      " [  161   324  1027  5492   880  1172  1400     7   111    36  1883  5730\n",
      "   1119   893   122   607    14    11]\n",
      " [   13   596  1668  1388   426   859   210     4     6     8   743   423\n",
      "  24216  3091    55  1363     0     2]\n",
      " [    0   739  2444   547     5   114     3     2    74     3     1    39\n",
      "    169 41640   876  1082     0     0]\n",
      " [   46   337  1374   391     1   130    22     9   146     5    16    49\n",
      "    543  8936  3020  4950     0     0]\n",
      " [  144  2857  3000   355    66  1330    37    41  3017   200   574   587\n",
      "   7347  4255   718 12822     0    88]\n",
      " [   23    25    13   639   634   754   274     0    63     4   189    66\n",
      "     36    22     0     2  6390   249]\n",
      " [   14   396    12   155  2614   694   666     0    15     5   313    63\n",
      "     92    25     0   173   647  3988]]\n",
      "misclassification\n",
      "0.2887277037602456\n"
     ]
    }
   ],
   "source": [
    "from sklearn import metrics\n",
    "from sklearn.metrics import roc_curve, auc\n",
    "import matplotlib.pyplot as plt\n",
    "from sklearn.preprocessing import label_binarize\n",
    "from scipy import interp\n",
    "\n",
    "\n",
    "y_true = y_test\n",
    "y_pred = clf.predict(X_test)\n",
    "\n",
    "\n",
    "print(metrics.confusion_matrix(y_true, y_pred))\n",
    "print(\"misclassification\")\n",
    "print(1-clf.score(X_test,y_test))"
   ]
  },
  {
   "cell_type": "code",
   "execution_count": null,
   "metadata": {},
   "outputs": [],
   "source": []
  }
 ],
 "metadata": {
  "kernelspec": {
   "display_name": "Python 2",
   "language": "python",
   "name": "python2"
  },
  "language_info": {
   "codemirror_mode": {
    "name": "ipython",
    "version": 2
   },
   "file_extension": ".py",
   "mimetype": "text/x-python",
   "name": "python",
   "nbconvert_exporter": "python",
   "pygments_lexer": "ipython2",
   "version": "2.7.14"
  }
 },
 "nbformat": 4,
 "nbformat_minor": 2
}
