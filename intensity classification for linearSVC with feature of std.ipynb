{
 "cells": [
  {
   "cell_type": "code",
   "execution_count": 2,
   "metadata": {},
   "outputs": [
    {
     "name": "stdout",
     "output_type": "stream",
     "text": [
      "set([30.375, 1.0, 32.1875, -0.020804200000000002, -1.75247, 9.74041, -58.3656, 0.00600704, 5.744669999999999, 0.200711, 8.14592, -0.00953821, 0.90499, -0.024303900000000003, 0.020881999999999998, 9.58649, -0.059842599999999996, 0.250816, 0.129092, 37.67, 30.75, 5.78739, 9.69762, 43.5427, -36.3197, 0.0254788, -67.9584, 7.67288, 9.6498, -20.9091, -1.6504299999999998, -60.8916, -1.47329, 0.000944724, 100.0, 9.583, 2.27373, -50.508, -1.88438, -0.17171, 0.0193427, 2.29196])\n"
     ]
    }
   ],
   "source": [
    "import numpy as np  \n",
    "import pandas as pd\n",
    "from sklearn import svm\n",
    "from sklearn.model_selection import GridSearchCV\n",
    "df11 = pd.read_csv('subject101.csv',delimiter=',')\n",
    "df12 = pd.read_csv('subject102.csv',delimiter=',')\n",
    "df13 = pd.read_csv('subject103.csv',delimiter=',')\n",
    "df14 = pd.read_csv('subject104.csv',delimiter=',')\n",
    "df15 = pd.read_csv('subject105.csv',delimiter=',')\n",
    "df16 = pd.read_csv('subject106.csv',delimiter=',')\n",
    "df17 = pd.read_csv('subject107.csv',delimiter=',')\n",
    "df18 = pd.read_csv('subject108.csv',delimiter=',')\n",
    "df19 = pd.read_csv('subject109.csv',delimiter=',')\n",
    "# print df.shape\n",
    "\n",
    "\n",
    "\n",
    "\n",
    "\n",
    "\n"
   ]
  },
  {
   "cell_type": "code",
   "execution_count": 4,
   "metadata": {},
   "outputs": [
    {
     "name": "stdout",
     "output_type": "stream",
     "text": [
      "set([1, 2, 3, 4, 5, 6, 7, 12, 13, 16, 17, 24])\n"
     ]
    }
   ],
   "source": []
  },
  {
   "cell_type": "markdown",
   "metadata": {},
   "source": [
    "# intensity:"
   ]
  },
  {
   "cell_type": "code",
   "execution_count": 19,
   "metadata": {},
   "outputs": [
    {
     "name": "stdout",
     "output_type": "stream",
     "text": [
      "lable change: 1 to 2\n",
      "lable change: 2 to 3\n",
      "lable change: 3 to 17\n",
      "lable change: 17 to 16\n",
      "lable change: 16 to 12\n",
      "lable change: 12 to 13\n",
      "lable change: 13 to 12\n",
      "lable change: 12 to 13\n",
      "lable change: 13 to 4\n",
      "lable change: 4 to 7\n",
      "lable change: 7 to 6\n",
      "lable change: 6 to 5\n",
      "lable change: 5 to 24\n",
      "lable change: 1 to 2\n",
      "lable change: 2 to 3\n",
      "lable change: 3 to 17\n",
      "lable change: 17 to 16\n",
      "lable change: 16 to 12\n",
      "lable change: 12 to 13\n",
      "lable change: 13 to 12\n",
      "lable change: 12 to 13\n",
      "lable change: 13 to 4\n",
      "lable change: 4 to 7\n",
      "lable change: 7 to 6\n",
      "lable change: 6 to 5\n",
      "lable change: 5 to 24\n",
      "lable change: 1 to 2\n",
      "lable change: 2 to 3\n",
      "lable change: 3 to 17\n",
      "lable change: 17 to 16\n",
      "lable change: 16 to 13\n",
      "lable change: 13 to 12\n",
      "lable change: 12 to 13\n",
      "lable change: 13 to 12\n",
      "lable change: 12 to 13\n",
      "lable change: 13 to 4\n",
      "lable change: 1 to 2\n",
      "lable change: 2 to 3\n",
      "lable change: 3 to 17\n",
      "lable change: 17 to 16\n",
      "lable change: 16 to 12\n",
      "lable change: 12 to 13\n",
      "lable change: 13 to 12\n",
      "lable change: 12 to 13\n",
      "lable change: 13 to 4\n",
      "lable change: 4 to 7\n",
      "lable change: 7 to 6\n",
      "lable change: 6 to 5\n",
      "lable change: 1 to 2\n",
      "lable change: 2 to 3\n",
      "lable change: 3 to 17\n",
      "lable change: 17 to 16\n",
      "lable change: 16 to 12\n",
      "lable change: 12 to 13\n",
      "lable change: 13 to 12\n",
      "lable change: 12 to 13\n",
      "lable change: 13 to 4\n",
      "lable change: 4 to 7\n",
      "lable change: 7 to 6\n",
      "lable change: 6 to 5\n",
      "lable change: 5 to 24\n",
      "lable change: 1 to 2\n",
      "lable change: 2 to 3\n",
      "lable change: 3 to 17\n",
      "lable change: 17 to 16\n",
      "lable change: 16 to 12\n",
      "lable change: 12 to 13\n",
      "lable change: 13 to 12\n",
      "lable change: 12 to 13\n",
      "lable change: 13 to 4\n",
      "lable change: 4 to 7\n",
      "lable change: 7 to 6\n",
      "lable change: 6 to 5\n",
      "lable change: 5 to 24\n",
      "lable change: 1 to 2\n",
      "lable change: 2 to 3\n",
      "lable change: 3 to 17\n",
      "lable change: 17 to 16\n",
      "lable change: 16 to 12\n",
      "lable change: 12 to 13\n",
      "lable change: 13 to 12\n",
      "lable change: 12 to 13\n",
      "lable change: 13 to 4\n",
      "lable change: 4 to 7\n",
      "lable change: 7 to 6\n",
      "lable change: 6 to 5\n",
      "lable change: 1 to 2\n",
      "lable change: 2 to 3\n",
      "lable change: 3 to 17\n",
      "lable change: 17 to 16\n",
      "lable change: 16 to 12\n",
      "lable change: 12 to 13\n",
      "lable change: 13 to 12\n",
      "lable change: 12 to 13\n",
      "lable change: 13 to 4\n",
      "lable change: 4 to 6\n",
      "lable change: 6 to 7\n",
      "lable change: 7 to 5\n",
      "lable change: 5 to 24\n"
     ]
    }
   ],
   "source": [
    "def std(df):\n",
    "    data_std=[] \n",
    "    note = 0\n",
    "    for i in range(1,len(df)):\n",
    "        if df.iloc[i,1] != df.iloc[i-1,1]:\n",
    "            period = i-1 - note\n",
    "            step = 50\n",
    "            times = period//step\n",
    "            for j in range(times):\n",
    "                std = df.iloc[note+50*j:note+50*(j+1),1:].std()\n",
    "                std.iloc[0] = df.iloc[i-1,1]\n",
    "                data_std.append(std.values)\n",
    "            note = i\n",
    "            print \"lable change: %s to %s\" %(df.iloc[i-1,1], df.iloc[i,1])\n",
    "    return pd.DataFrame(data_std)\n",
    "set11 = std(df11)\n",
    "set12 = std(df12)\n",
    "set13 = std(df13)\n",
    "set14 = std(df14)\n",
    "set15 = std(df15)\n",
    "set16 = std(df16)\n",
    "set17 = std(df17)\n",
    "set18 = std(df18)\n",
    "set19 = std(df19)\n"
   ]
  },
  {
   "cell_type": "code",
   "execution_count": 20,
   "metadata": {},
   "outputs": [
    {
     "name": "stdout",
     "output_type": "stream",
     "text": [
      "(37161, 41)\n",
      "set([0.0, 1.0, 2.0])\n"
     ]
    }
   ],
   "source": [
    "df = pd.concat([set11,set12,set13,set14,set15,set16,set17,set18,set19])\n",
    "df.loc[df.iloc[:,0].isin ([1,2,3,17])] = 0\n",
    "df.loc[df.iloc[:,0].isin ([16,13,4,7,6])] = 1\n",
    "df.loc[df.iloc[:,0].isin ([12,5,24])] = 2\n",
    "print df.shape\n",
    "print set(df.iloc[:,0])"
   ]
  },
  {
   "cell_type": "code",
   "execution_count": 21,
   "metadata": {},
   "outputs": [
    {
     "name": "stdout",
     "output_type": "stream",
     "text": [
      "GridSearchCV(cv=10, error_score='raise',\n",
      "       estimator=LinearSVC(C=1.0, class_weight=None, dual=False, fit_intercept=True,\n",
      "     intercept_scaling=1, loss='squared_hinge', max_iter=1000,\n",
      "     multi_class='ovr', penalty='l1', random_state=None, tol=0.0001,\n",
      "     verbose=0),\n",
      "       fit_params=None, iid=True, n_jobs=1,\n",
      "       param_grid={'C': array([9.76562e-04, 4.55675e-03, 2.12623e-02, 9.92126e-02, 4.62937e-01,\n",
      "       2.16012e+00, 1.00794e+01, 4.70315e+01, 2.19454e+02, 1.02400e+03])},\n",
      "       pre_dispatch='2*n_jobs', refit=True, return_train_score='warn',\n",
      "       scoring=None, verbose=0)\n",
      "LinearSVC(C=1.0, class_weight=None, dual=False, fit_intercept=True,\n",
      "     intercept_scaling=1, loss='squared_hinge', max_iter=1000,\n",
      "     multi_class='ovr', penalty='l1', random_state=None, tol=0.0001,\n",
      "     verbose=0)\n",
      "{'C': 0.004556754060844206}\n",
      "1.0\n"
     ]
    }
   ],
   "source": [
    "from sklearn.model_selection import train_test_split\n",
    "X = df.iloc[:,1:]\n",
    "y = df.iloc[:,0]\n",
    "X_train, X_test, y_train, y_test = train_test_split(X, y,train_size=0.8, shuffle = True,stratify=y)\n",
    "def norm(df):\n",
    "    df_norm = (df - df.mean()) / (df.max() - df.min())\n",
    "    return df_norm\n",
    "X_train = norm(X_train)\n",
    "X_test = norm(X_test)\n",
    "clf = svm.LinearSVC(penalty='l1',dual=False)\n",
    "parameters = {'C':np.logspace(-10, 10, num=10, base=2)}\n",
    "grid = GridSearchCV(clf,parameters,cv=10)\n",
    "grid.fit(X_train,y_train)\n",
    "print grid\n",
    "print clf\n",
    "print grid.best_params_\n",
    "print grid.score(X_test,y_test)\n"
   ]
  },
  {
   "cell_type": "code",
   "execution_count": 17,
   "metadata": {},
   "outputs": [
    {
     "name": "stdout",
     "output_type": "stream",
     "text": [
      "hamming loss\n",
      "0.0\n",
      "exact match score\n",
      "1.0\n"
     ]
    }
   ],
   "source": [
    "from sklearn.metrics import hamming_loss\n",
    "from sklearn.metrics import accuracy_score\n",
    "# hamming_loss(y_true, y_pred)\n",
    "# accuracy_score(y_true, y_pred)\n",
    "\n",
    "# used in evaluating multilabel classification \n",
    "\n",
    "y_true = np.array(y_test)\n",
    "y_pred = grid.predict(X_test)\n",
    "\n",
    "hamming_loss_value = np.sum(np.not_equal(y_true, y_pred))/float(y_true.size)\n",
    "accuracy_score_value = grid.score(X_test,y_test)\n",
    "\n",
    "print 'hamming loss'\n",
    "print hamming_loss_value\n",
    "print 'exact match score'\n",
    "print accuracy_score_value"
   ]
  },
  {
   "cell_type": "code",
   "execution_count": 18,
   "metadata": {},
   "outputs": [
    {
     "name": "stdout",
     "output_type": "stream",
     "text": [
      "[[1609    0    0]\n",
      " [   0 1681    0]\n",
      " [   0    0  422]]\n",
      "misclassification\n",
      "0.0\n"
     ]
    }
   ],
   "source": [
    "from sklearn import metrics\n",
    "from sklearn.metrics import roc_curve, auc\n",
    "import matplotlib.pyplot as plt\n",
    "from sklearn.preprocessing import label_binarize\n",
    "from scipy import interp\n",
    "\n",
    "\n",
    "y_true = y_test\n",
    "y_pred = grid.predict(X_test)\n",
    "y_hat = grid.decision_function(X_test)\n",
    "\n",
    "\n",
    "print(metrics.confusion_matrix(y_true, y_pred))\n",
    "print(\"misclassification\")\n",
    "print(1-grid.score(X_test,y_test))"
   ]
  },
  {
   "cell_type": "code",
   "execution_count": null,
   "metadata": {},
   "outputs": [],
   "source": [
    "\n"
   ]
  },
  {
   "cell_type": "code",
   "execution_count": null,
   "metadata": {},
   "outputs": [],
   "source": []
  }
 ],
 "metadata": {
  "kernelspec": {
   "display_name": "Python 2",
   "language": "python",
   "name": "python2"
  },
  "language_info": {
   "codemirror_mode": {
    "name": "ipython",
    "version": 2
   },
   "file_extension": ".py",
   "mimetype": "text/x-python",
   "name": "python",
   "nbconvert_exporter": "python",
   "pygments_lexer": "ipython2",
   "version": "2.7.14"
  }
 },
 "nbformat": 4,
 "nbformat_minor": 2
}
