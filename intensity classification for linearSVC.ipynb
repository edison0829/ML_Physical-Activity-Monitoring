{
 "cells": [
  {
   "cell_type": "code",
   "execution_count": 1,
   "metadata": {},
   "outputs": [],
   "source": [
    "import numpy as np  \n",
    "import pandas as pd\n",
    "from sklearn import svm\n",
    "from sklearn.model_selection import GridSearchCV\n",
    "df11 = pd.read_csv('subject101.csv',delimiter=',')\n",
    "df12 = pd.read_csv('subject102.csv',delimiter=',')\n",
    "df13 = pd.read_csv('subject103.csv',delimiter=',')\n",
    "df14 = pd.read_csv('subject104.csv',delimiter=',')\n",
    "df15 = pd.read_csv('subject105.csv',delimiter=',')\n",
    "df16 = pd.read_csv('subject106.csv',delimiter=',')\n",
    "df17 = pd.read_csv('subject107.csv',delimiter=',')\n",
    "df18 = pd.read_csv('subject108.csv',delimiter=',')\n",
    "df19 = pd.read_csv('subject109.csv',delimiter=',')\n"
   ]
  },
  {
   "cell_type": "markdown",
   "metadata": {},
   "source": [
    "intensity:"
   ]
  },
  {
   "cell_type": "code",
   "execution_count": 2,
   "metadata": {},
   "outputs": [
    {
     "name": "stdout",
     "output_type": "stream",
     "text": [
      "lable change: 1 to 2\n",
      "lable change: 2 to 3\n",
      "lable change: 3 to 17\n",
      "lable change: 17 to 16\n",
      "lable change: 16 to 12\n",
      "lable change: 12 to 13\n",
      "lable change: 13 to 12\n",
      "lable change: 12 to 13\n",
      "lable change: 13 to 4\n",
      "lable change: 4 to 7\n",
      "lable change: 7 to 6\n",
      "lable change: 6 to 5\n",
      "lable change: 5 to 24\n",
      "lable change: 1 to 2\n",
      "lable change: 2 to 3\n",
      "lable change: 3 to 17\n",
      "lable change: 17 to 16\n",
      "lable change: 16 to 12\n",
      "lable change: 12 to 13\n",
      "lable change: 13 to 12\n",
      "lable change: 12 to 13\n",
      "lable change: 13 to 4\n",
      "lable change: 4 to 7\n",
      "lable change: 7 to 6\n",
      "lable change: 6 to 5\n",
      "lable change: 5 to 24\n",
      "lable change: 1 to 2\n",
      "lable change: 2 to 3\n",
      "lable change: 3 to 17\n",
      "lable change: 17 to 16\n",
      "lable change: 16 to 13\n",
      "lable change: 13 to 12\n",
      "lable change: 12 to 13\n",
      "lable change: 13 to 12\n",
      "lable change: 12 to 13\n",
      "lable change: 13 to 4\n",
      "lable change: 1 to 2\n",
      "lable change: 2 to 3\n",
      "lable change: 3 to 17\n",
      "lable change: 17 to 16\n",
      "lable change: 16 to 12\n",
      "lable change: 12 to 13\n",
      "lable change: 13 to 12\n",
      "lable change: 12 to 13\n",
      "lable change: 13 to 4\n",
      "lable change: 4 to 7\n",
      "lable change: 7 to 6\n",
      "lable change: 6 to 5\n",
      "lable change: 1 to 2\n",
      "lable change: 2 to 3\n",
      "lable change: 3 to 17\n",
      "lable change: 17 to 16\n",
      "lable change: 16 to 12\n",
      "lable change: 12 to 13\n",
      "lable change: 13 to 12\n",
      "lable change: 12 to 13\n",
      "lable change: 13 to 4\n",
      "lable change: 4 to 7\n",
      "lable change: 7 to 6\n",
      "lable change: 6 to 5\n",
      "lable change: 5 to 24\n",
      "lable change: 1 to 2\n",
      "lable change: 2 to 3\n",
      "lable change: 3 to 17\n",
      "lable change: 17 to 16\n",
      "lable change: 16 to 12\n",
      "lable change: 12 to 13\n",
      "lable change: 13 to 12\n",
      "lable change: 12 to 13\n",
      "lable change: 13 to 4\n",
      "lable change: 4 to 7\n",
      "lable change: 7 to 6\n",
      "lable change: 6 to 5\n",
      "lable change: 5 to 24\n",
      "lable change: 1 to 2\n",
      "lable change: 2 to 3\n",
      "lable change: 3 to 17\n",
      "lable change: 17 to 16\n",
      "lable change: 16 to 12\n",
      "lable change: 12 to 13\n",
      "lable change: 13 to 12\n",
      "lable change: 12 to 13\n",
      "lable change: 13 to 4\n",
      "lable change: 4 to 7\n",
      "lable change: 7 to 6\n",
      "lable change: 6 to 5\n",
      "lable change: 1 to 2\n",
      "lable change: 2 to 3\n",
      "lable change: 3 to 17\n",
      "lable change: 17 to 16\n",
      "lable change: 16 to 12\n",
      "lable change: 12 to 13\n",
      "lable change: 13 to 12\n",
      "lable change: 12 to 13\n",
      "lable change: 13 to 4\n",
      "lable change: 4 to 6\n",
      "lable change: 6 to 7\n",
      "lable change: 7 to 5\n",
      "lable change: 5 to 24\n"
     ]
    }
   ],
   "source": [
    "def mean(df):\n",
    "    data_mean=[] \n",
    "    note = 0\n",
    "    for i in range(1,len(df)):\n",
    "        if df.iloc[i,1] != df.iloc[i-1,1]:\n",
    "            period = i-1 - note\n",
    "            step = 100\n",
    "            times = period//step\n",
    "            for j in range(times):\n",
    "                mean = df.iloc[note+step*j:note+step*(j+1),1:].mean()\n",
    "                mean.iloc[0] = df.iloc[i-1,1]\n",
    "                data_mean.append(mean.values)\n",
    "            note = i\n",
    "            print \"lable change: %s to %s\" %(df.iloc[i-1,1], df.iloc[i,1])\n",
    "    return pd.DataFrame(data_mean)\n",
    "\n",
    "\n",
    "set11 = mean(df11)\n",
    "set12 = mean(df12)\n",
    "set13 = mean(df13)\n",
    "set14 = mean(df14)\n",
    "set15 = mean(df15)\n",
    "set16 = mean(df16)\n",
    "set17 = mean(df17)\n",
    "set18 = mean(df18)\n",
    "set19 = mean(df19)"
   ]
  },
  {
   "cell_type": "code",
   "execution_count": 3,
   "metadata": {},
   "outputs": [
    {
     "name": "stdout",
     "output_type": "stream",
     "text": [
      "(18556, 41)\n",
      "set([0.0, 1.0, 2.0])\n"
     ]
    }
   ],
   "source": [
    "df = pd.concat([set11,set12,set13,set14,set15,set16,set17,set18,set19])\n",
    "df.loc[df.iloc[:,0].isin ([1,2,3,17])] = 0\n",
    "df.loc[df.iloc[:,0].isin ([16,13,4,7,6])] = 1\n",
    "df.loc[df.iloc[:,0].isin ([12,5,24])] = 2\n",
    "print df.shape\n",
    "print set(df.iloc[:,0])"
   ]
  },
  {
   "cell_type": "code",
   "execution_count": 5,
   "metadata": {},
   "outputs": [
    {
     "name": "stdout",
     "output_type": "stream",
     "text": [
      "GridSearchCV(cv=10, error_score='raise',\n",
      "       estimator=SVC(C=1.0, cache_size=200, class_weight=None, coef0=0.0,\n",
      "  decision_function_shape='ovr', degree=3, gamma='auto', kernel='rbf',\n",
      "  max_iter=-1, probability=False, random_state=None, shrinking=True,\n",
      "  tol=0.001, verbose=False),\n",
      "       fit_params=None, iid=True, n_jobs=1,\n",
      "       param_grid={'kernel': ('linear', 'rbf'), 'C': array([9.76562e-04, 4.55675e-03, 2.12623e-02, 9.92126e-02, 4.62937e-01,\n",
      "       2.16012e+00, 1.00794e+01, 4.70315e+01, 2.19454e+02, 1.02400e+03])},\n",
      "       pre_dispatch='2*n_jobs', refit=True, return_train_score='warn',\n",
      "       scoring=None, verbose=0)\n",
      "SVC(C=1.0, cache_size=200, class_weight=None, coef0=0.0,\n",
      "  decision_function_shape='ovr', degree=3, gamma='auto', kernel='rbf',\n",
      "  max_iter=-1, probability=False, random_state=None, shrinking=True,\n",
      "  tol=0.001, verbose=False)\n",
      "{'kernel': 'linear', 'C': 0.0009765625}\n",
      "1.0\n"
     ]
    }
   ],
   "source": [
    "from sklearn.model_selection import train_test_split\n",
    "X = df.iloc[:,1:]\n",
    "y = df.iloc[:,0]\n",
    "X_train, X_test, y_train, y_test = train_test_split(X, y,train_size=0.8, shuffle = True,stratify=y)\n",
    "def norm(df):\n",
    "    df_norm = (df - df.mean()) / (df.max() - df.min())\n",
    "    return df_norm\n",
    "X_train = norm(X_train)\n",
    "X_test = norm(X_test)\n",
    "clf = svm.SVC(decision_function_shape='ovr')\n",
    "parameters = {'kernel':('linear', 'rbf'),'C':np.logspace(-10, 10, num=10, base=2)}\n",
    "grid = GridSearchCV(clf,parameters,cv=10)\n",
    "grid.fit(X_train,y_train)\n",
    "print grid\n",
    "print clf\n",
    "print grid.best_params_\n",
    "print grid.score(X_test,y_test)\n"
   ]
  },
  {
   "cell_type": "code",
   "execution_count": 9,
   "metadata": {},
   "outputs": [
    {
     "name": "stderr",
     "output_type": "stream",
     "text": [
      "/usr/local/lib/python2.7/site-packages/sklearn/neural_network/multilayer_perceptron.py:564: ConvergenceWarning: Stochastic Optimizer: Maximum iterations (200) reached and the optimization hasn't converged yet.\n",
      "  % self.max_iter, ConvergenceWarning)\n"
     ]
    },
    {
     "name": "stdout",
     "output_type": "stream",
     "text": [
      "GridSearchCV(cv=10, error_score='raise',\n",
      "       estimator=MLPClassifier(activation='relu', alpha=1e-05, batch_size='auto', beta_1=0.9,\n",
      "       beta_2=0.999, early_stopping=False, epsilon=1e-08,\n",
      "       hidden_layer_sizes=(100,), learning_rate='constant',\n",
      "       learning_rate_init=0.001, max_iter=200, momentum=0.9,\n",
      "       nesterovs_momentum=True, power_t=0.5, random_state=1, shuffle=True,\n",
      "       solver='adam', tol=0.0001, validation_fraction=0.1, verbose=False,\n",
      "       warm_start=False),\n",
      "       fit_params=None, iid=True, n_jobs=1,\n",
      "       param_grid={'alpha': array([9.76562e-04, 4.55675e-03, 2.12623e-02, 9.92126e-02, 4.62937e-01,\n",
      "       2.16012e+00, 1.00794e+01, 4.70315e+01, 2.19454e+02, 1.02400e+03]), 'solver': ('lbfgs', 'sgd', 'adam')},\n",
      "       pre_dispatch='2*n_jobs', refit=True, return_train_score='warn',\n",
      "       scoring=None, verbose=0)\n",
      "MLPClassifier(activation='relu', alpha=1e-05, batch_size='auto', beta_1=0.9,\n",
      "       beta_2=0.999, early_stopping=False, epsilon=1e-08,\n",
      "       hidden_layer_sizes=(100,), learning_rate='constant',\n",
      "       learning_rate_init=0.001, max_iter=200, momentum=0.9,\n",
      "       nesterovs_momentum=True, power_t=0.5, random_state=1, shuffle=True,\n",
      "       solver='adam', tol=0.0001, validation_fraction=0.1, verbose=False,\n",
      "       warm_start=False)\n",
      "{'alpha': 0.0009765625, 'solver': 'lbfgs'}\n",
      "1.0\n"
     ]
    }
   ],
   "source": [
    "from sklearn.neural_network import MLPClassifier\n",
    "clf = MLPClassifier( alpha=1e-5, hidden_layer_sizes=(100,), random_state=1)\n",
    "parameters = {'solver' : ('lbfgs', 'sgd', 'adam'),'alpha':np.logspace(-10, 10, num=10, base=2)}\n",
    "grid = GridSearchCV(clf,parameters,cv=10)\n",
    "grid.fit(X_train,y_train)\n",
    "print grid\n",
    "print clf\n",
    "print grid.best_params_\n",
    "print grid.score(X_test,y_test)"
   ]
  },
  {
   "cell_type": "code",
   "execution_count": 10,
   "metadata": {},
   "outputs": [
    {
     "name": "stdout",
     "output_type": "stream",
     "text": [
      "GridSearchCV(cv=10, error_score='raise',\n",
      "       estimator=LinearSVC(C=1.0, class_weight=None, dual=False, fit_intercept=True,\n",
      "     intercept_scaling=1, loss='squared_hinge', max_iter=1000,\n",
      "     multi_class='ovr', penalty='l1', random_state=None, tol=0.0001,\n",
      "     verbose=0),\n",
      "       fit_params=None, iid=True, n_jobs=1,\n",
      "       param_grid={'C': array([9.76562e-04, 4.55675e-03, 2.12623e-02, 9.92126e-02, 4.62937e-01,\n",
      "       2.16012e+00, 1.00794e+01, 4.70315e+01, 2.19454e+02, 1.02400e+03])},\n",
      "       pre_dispatch='2*n_jobs', refit=True, return_train_score='warn',\n",
      "       scoring=None, verbose=0)\n",
      "LinearSVC(C=1.0, class_weight=None, dual=False, fit_intercept=True,\n",
      "     intercept_scaling=1, loss='squared_hinge', max_iter=1000,\n",
      "     multi_class='ovr', penalty='l1', random_state=None, tol=0.0001,\n",
      "     verbose=0)\n",
      "{'C': 0.004556754060844206}\n",
      "1.0\n"
     ]
    }
   ],
   "source": [
    "clf = svm.LinearSVC(penalty='l1',dual=False)\n",
    "parameters = {'C':np.logspace(-10, 10, num=10, base=2)}\n",
    "grid = GridSearchCV(clf,parameters,cv=10)\n",
    "grid.fit(X_train,y_train)\n",
    "print grid\n",
    "print clf\n",
    "print grid.best_params_\n",
    "print grid.score(X_test,y_test)"
   ]
  },
  {
   "cell_type": "code",
   "execution_count": null,
   "metadata": {},
   "outputs": [],
   "source": []
  },
  {
   "cell_type": "code",
   "execution_count": null,
   "metadata": {},
   "outputs": [],
   "source": []
  }
 ],
 "metadata": {
  "kernelspec": {
   "display_name": "Python 2",
   "language": "python",
   "name": "python2"
  },
  "language_info": {
   "codemirror_mode": {
    "name": "ipython",
    "version": 2
   },
   "file_extension": ".py",
   "mimetype": "text/x-python",
   "name": "python",
   "nbconvert_exporter": "python",
   "pygments_lexer": "ipython2",
   "version": "2.7.14"
  }
 },
 "nbformat": 4,
 "nbformat_minor": 2
}
